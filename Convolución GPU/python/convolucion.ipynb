{
  "nbformat": 4,
  "nbformat_minor": 0,
  "metadata": {
    "colab": {
      "name": "Untitled1.ipynb",
      "version": "0.3.2",
      "provenance": [],
      "collapsed_sections": [],
      "include_colab_link": true
    },
    "kernelspec": {
      "name": "python2",
      "display_name": "Python 2"
    },
    "accelerator": "GPU"
  },
  "cells": [
    {
      "cell_type": "markdown",
      "metadata": {
        "id": "view-in-github",
        "colab_type": "text"
      },
      "source": [
        "<a href=\"https://colab.research.google.com/github/lehi10/TopicosEnGrafica/blob/master/convolucion.ipynb\" target=\"_parent\"><img src=\"https://colab.research.google.com/assets/colab-badge.svg\" alt=\"Open In Colab\"/></a>"
      ]
    },
    {
      "cell_type": "code",
      "metadata": {
        "id": "XFzivOj4HCul",
        "colab_type": "code",
        "colab": {}
      },
      "source": [
        "!apt-get --purge remove cuda nvidia* libnvidia-*\n",
        "!dpkg -l | grep cuda- | awk '{print $2}' | xargs -n1 dpkg --purge\n",
        "!apt-get remove cuda-*\n",
        "!apt autoremove\n",
        "!apt-get update"
      ],
      "execution_count": 0,
      "outputs": []
    },
    {
      "cell_type": "code",
      "metadata": {
        "id": "AMvQY8HvM1ve",
        "colab_type": "code",
        "colab": {}
      },
      "source": [
        "!wget https://developer.nvidia.com/compute/cuda/9.2/Prod/local_installers/cuda-repo-ubuntu1604-9-2-local_9.2.88-1_amd64 -O cuda-repo-ubuntu1604-9-2-local_9.2.88-1_amd64.deb\n",
        "!dpkg -i cuda-repo-ubuntu1604-9-2-local_9.2.88-1_amd64.deb\n",
        "!apt-key add /var/cuda-repo-9-2-local/7fa2af80.pub\n",
        "!apt-get update\n",
        "!apt-get install cuda-9.2\n"
      ],
      "execution_count": 0,
      "outputs": []
    },
    {
      "cell_type": "code",
      "metadata": {
        "id": "WSrbrZQuM7DW",
        "colab_type": "code",
        "colab": {}
      },
      "source": [
        "!nvcc --version\n"
      ],
      "execution_count": 0,
      "outputs": []
    },
    {
      "cell_type": "code",
      "metadata": {
        "id": "WLZhmb_VM_MC",
        "colab_type": "code",
        "colab": {}
      },
      "source": [
        "!pip install git+git://github.com/andreinechaev/nvcc4jupyter.git\n"
      ],
      "execution_count": 0,
      "outputs": []
    },
    {
      "cell_type": "code",
      "metadata": {
        "id": "BUXH4sCJNDtx",
        "colab_type": "code",
        "outputId": "f11eea14-19ea-47aa-aa08-c4b5fa9c9e1a",
        "colab": {
          "base_uri": "https://localhost:8080/",
          "height": 52
        }
      },
      "source": [
        "%load_ext nvcc_plugin\n",
        "  "
      ],
      "execution_count": 0,
      "outputs": [
        {
          "output_type": "stream",
          "text": [
            "created output directory at /content/src\n",
            "Out bin /content/result.out\n"
          ],
          "name": "stdout"
        }
      ]
    },
    {
      "cell_type": "code",
      "metadata": {
        "id": "Oap19cdjOjLP",
        "colab_type": "code",
        "outputId": "96172c79-a7e9-4f76-985f-bf53849aa3c7",
        "colab": {
          "base_uri": "https://localhost:8080/",
          "height": 35
        }
      },
      "source": [
        "%%cu\n",
        "\n",
        "#include <stdio.h>\n",
        "#include <stdlib.h>\n",
        "#include <iostream>\n",
        "\n",
        "using namespace std;\n",
        "\n",
        "#define N 9\n",
        "#define xF 3\n",
        "#define yF 3\n",
        "\n",
        "__global__ void MatAdd(int A[][N],int B[][xF],int C[][N])\n",
        "{\n",
        "\tint i = threadIdx.x;\n",
        "\tint j = threadIdx.y;\n",
        "\n",
        "\tint it_F_x=0;\n",
        "\tint it_F_y=0;\n",
        "\n",
        "\tfloat  sum=0.0;\n",
        "\n",
        "\tint hPadd=(xF-1)/2;\n",
        "\tint vPadd=(yF-1)/2;\n",
        "\n",
        "\tif((i-hPadd+1>0 && j-vPadd+1>0 ) && (i+hPadd<N && j+vPadd<N))\n",
        "\t{\n",
        "\t\tfor(int it_x=i-hPadd; it_x<i-hPadd+xF;it_x++)\n",
        "\t\t{\t\n",
        "\t\t\tfor(int it_y=i-hPadd; it_y<i-vPadd+yF;it_y++)\n",
        "\t\t\t{\n",
        "\t\t\t\tsum+=(1.0*B[it_F_x][it_F_y]*A[it_x][it_y]);\n",
        "\t\t\t\tit_F_x++;\n",
        "\t\t\t}\n",
        "\t\t\tit_F_x=0;\n",
        "\t\t\tit_F_y++;\n",
        "\t\t}\t\n",
        "\t\tC[i][j]=sum;\n",
        "\t}\n",
        "}\n",
        "\n",
        "\n",
        "int main()\n",
        "{\n",
        "\tint A[N][N]={\t{1,2,3,4,5,6,7,8,9},\n",
        "\t\t\t\t\t{1,2,3,4,5,6,7,8,9},\n",
        "\t\t\t\t\t{1,2,3,4,5,6,7,8,9},\n",
        "\t\t\t\t\t{1,2,3,4,5,6,7,8,9},\n",
        "\t\t\t\t\t{1,2,3,4,5,6,7,8,9},\n",
        "\t\t\t\t\t{1,2,3,4,5,6,7,8,9},\n",
        "\t\t\t\t\t{1,2,3,4,5,6,7,8,9},\n",
        "\t\t\t\t\t{1,2,3,4,5,6,7,8,9},\n",
        "\t\t\t\t\t{1,2,3,4,5,6,7,8,9}};\n",
        "\n",
        "\tint B[xF][yF]={{0,0,0},{0,1,0},{0,0,0}};\n",
        "\n",
        "\tint C[N][N];\n",
        "\tfor(int i=0;i<N;i++)\n",
        "\t{\n",
        "\t\tfor(int j=0;j<N;j++)\n",
        "\t\t{\n",
        "\t\t\tC[i][j]=0;\n",
        "\t\t}\n",
        "\t\t\n",
        "\t}\n",
        "\n",
        "\tint (*pA)[N], (*pB)[xF], (*pC)[N];\n",
        "\n",
        "\t\n",
        "\n",
        "\tcudaMalloc((void**)&pA, (N*N)*sizeof(int));\n",
        "\tcudaMalloc((void**)&pB, (xF*yF)*sizeof(int));\n",
        "\tcudaMalloc((void**)&pC, (N*N)*sizeof(int));\n",
        "\n",
        "\n",
        "\n",
        "\tcudaMemcpy(pA,A,(N*N)*sizeof(int),\tcudaMemcpyHostToDevice);\n",
        "\tcudaMemcpy(pB,B,(xF*yF)*sizeof(int),cudaMemcpyHostToDevice);\n",
        "\tcudaMemcpy(pC,C,(N*N)*sizeof(int),\tcudaMemcpyHostToDevice);\n",
        "\n",
        "\tint numBlocks=1;\n",
        "\tdim3 threadsPerBlock(N,N);\n",
        "\n",
        "\t\n",
        "\tMatAdd<<<numBlocks,threadsPerBlock>>>(pA,pB,pC);\n",
        "\n",
        "\n",
        "\tcudaMemcpy(C,pC,(N*N)*sizeof(int),cudaMemcpyDeviceToHost);\n",
        "\n",
        "\n",
        "\tint i,j;\n",
        "\tprintf(\"C = \\n\");\n",
        "\tfor(i=0;i<N;i++)\n",
        "\t{\n",
        "\t\tfor(j=0;j<N;j++)\n",
        "\t\t{\n",
        "\t\t\tprintf(\"%d \" ,C[i][j]);\n",
        "\t\t}\n",
        "\t\tprintf(\"\\n\");\n",
        "\t}\n",
        "\n",
        "\tcudaFree(pA);\n",
        "\tcudaFree(pB);\n",
        "\tcudaFree(pC);\n",
        "\n",
        "\tprintf(\"\\n\");\n",
        "\n",
        "\treturn 0;\n",
        "\n",
        "}\n",
        "\n",
        "\n"
      ],
      "execution_count": 16,
      "outputs": [
        {
          "output_type": "stream",
          "text": [
            "UsageError: Cell magic `%%cu` not found.\n"
          ],
          "name": "stderr"
        }
      ]
    },
    {
      "cell_type": "code",
      "metadata": {
        "id": "crHCeICjvjWT",
        "colab_type": "code",
        "colab": {}
      },
      "source": [
        "#%pip install pycuda\n",
        "\n",
        "# -*- coding: utf-8 -*-\n",
        "import numpy as np\n",
        "\n",
        "import time\n",
        "\n",
        "import cuconv as cu\n",
        "\n",
        "\n",
        "\n",
        "def from_img(fname):\n",
        "    return np.asarray(misc.imread(fname, flatten=True), dtype=np.float32)\n",
        "\n",
        "\n",
        "def to_img(m):\n",
        "    return np.clip(np.absolute(m), 0, 255)\n",
        "\n",
        "\n",
        "def k_boxblur(r):\n",
        "    return np.ones([r+(0 if r % 2 is 1 else 1), r+(0 if r % 2 is 1 else 1)])\n",
        "\n",
        "def nrm(m):\n",
        "    m = np.array(m)\n",
        "    return m/np.sum(np.abs(m))\n",
        "\n",
        "\n",
        "# FILTROS\n",
        "k_id = [[0,0,0], [0,1,0], [0,0,0]]  #Filtro identidad\n",
        "k_sv = [[-1,0,1.], [-2.,0.,2.], [-1.,0.,1.]] #Filtro de bordes derivado en X\n",
        "k_sh = [[-1,-2,-1.],[0.,0.,0.], [1.,2.,1.]] #Filtro de bordes derivado en Y\n",
        "k_b5 = k_boxblur(5)\n",
        "\n",
        "\n",
        "# CARGANDO IMAGEN\n",
        "a = from_img('/content/1VgAqbP3_400x400.jpg').astype(np.float32)\n",
        "\n",
        "#APLICANDO FILTROS\n",
        "\n",
        "c = cu.convolve(a, k_id)\n",
        "misc.imsave('/content/results/g_result_id.png', to_img(c))\n",
        "\n",
        "c = cu.convolve(a, k_sv)\n",
        "misc.imsave('/content/results/g_result_sv.png', to_img(c))\n",
        "\n",
        "c = cu.convolve(a, k_sh)\n",
        "misc.imsave('/content/results/g_result_sh.png', to_img(c))\n",
        "\n",
        "c = cu.convolve(a, k_b5)\n",
        "misc.imsave('/content/results/g_result_b5.png', to_img(c))\n",
        "\n"
      ],
      "execution_count": 0,
      "outputs": []
    }
  ]
}